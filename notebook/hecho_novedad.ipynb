{
 "cells": [
  {
   "cell_type": "code",
   "execution_count": 6,
   "metadata": {},
   "outputs": [],
   "source": [
    "# %pip install sqlalchemy En caso de ser necesario, ejecutar\n",
    "# %pip install --user psycopg2 En caso de ser necesario, ejecutar\n",
    "# %pip install numpy En caso de ser necesario, ejecutar\n",
    "# %pip install pandas En caso de ser necesario, ejecutar"
   ]
  },
  {
   "cell_type": "code",
   "execution_count": 7,
   "metadata": {},
   "outputs": [],
   "source": [
    "import yaml\n",
    "import pandas as pd\n",
    "from sqlalchemy import create_engine"
   ]
  },
  {
   "cell_type": "code",
   "execution_count": 8,
   "metadata": {},
   "outputs": [],
   "source": [
    "with open('config.yaml') as f:\n",
    "    config = yaml.safe_load(f)\n",
    "    configFuente = config['fuente']\n",
    "    configBodega = config['bodega']\n",
    "\n",
    "urlFuente = f\"{configFuente['driver']}://{configFuente['user']}:{configFuente['password']}@{configFuente['host']}:{configFuente['port']}/{configFuente['db']}\"\n",
    "urlBodega = f\"{configBodega['driver']}://{configBodega['user']}:{configBodega['password']}@{configBodega['host']}:{configBodega['port']}/{configBodega['db']}\"\n",
    "\n",
    "src = create_engine(urlFuente)\n",
    "etl = create_engine(urlBodega)"
   ]
  },
  {
   "cell_type": "code",
   "execution_count": 9,
   "metadata": {},
   "outputs": [
    {
     "data": {
      "text/html": [
       "<div>\n",
       "<style scoped>\n",
       "    .dataframe tbody tr th:only-of-type {\n",
       "        vertical-align: middle;\n",
       "    }\n",
       "\n",
       "    .dataframe tbody tr th {\n",
       "        vertical-align: top;\n",
       "    }\n",
       "\n",
       "    .dataframe thead th {\n",
       "        text-align: right;\n",
       "    }\n",
       "</style>\n",
       "<table border=\"1\" class=\"dataframe\">\n",
       "  <thead>\n",
       "    <tr style=\"text-align: right;\">\n",
       "      <th></th>\n",
       "      <th>key_servicio</th>\n",
       "      <th>key_tipo_novedad</th>\n",
       "      <th>key_hecho_novedad</th>\n",
       "      <th>total_novedad</th>\n",
       "    </tr>\n",
       "  </thead>\n",
       "  <tbody>\n",
       "    <tr>\n",
       "      <th>0</th>\n",
       "      <td>29</td>\n",
       "      <td>1</td>\n",
       "      <td>1</td>\n",
       "      <td>1</td>\n",
       "    </tr>\n",
       "    <tr>\n",
       "      <th>1</th>\n",
       "      <td>29</td>\n",
       "      <td>2</td>\n",
       "      <td>2</td>\n",
       "      <td>1</td>\n",
       "    </tr>\n",
       "    <tr>\n",
       "      <th>2</th>\n",
       "      <td>51</td>\n",
       "      <td>1</td>\n",
       "      <td>3</td>\n",
       "      <td>5</td>\n",
       "    </tr>\n",
       "    <tr>\n",
       "      <th>3</th>\n",
       "      <td>51</td>\n",
       "      <td>2</td>\n",
       "      <td>4</td>\n",
       "      <td>3</td>\n",
       "    </tr>\n",
       "    <tr>\n",
       "      <th>4</th>\n",
       "      <td>57</td>\n",
       "      <td>1</td>\n",
       "      <td>5</td>\n",
       "      <td>2</td>\n",
       "    </tr>\n",
       "    <tr>\n",
       "      <th>...</th>\n",
       "      <td>...</td>\n",
       "      <td>...</td>\n",
       "      <td>...</td>\n",
       "      <td>...</td>\n",
       "    </tr>\n",
       "    <tr>\n",
       "      <th>3557</th>\n",
       "      <td>28455</td>\n",
       "      <td>1</td>\n",
       "      <td>3558</td>\n",
       "      <td>1</td>\n",
       "    </tr>\n",
       "    <tr>\n",
       "      <th>3558</th>\n",
       "      <td>28461</td>\n",
       "      <td>2</td>\n",
       "      <td>3559</td>\n",
       "      <td>1</td>\n",
       "    </tr>\n",
       "    <tr>\n",
       "      <th>3559</th>\n",
       "      <td>28464</td>\n",
       "      <td>2</td>\n",
       "      <td>3560</td>\n",
       "      <td>1</td>\n",
       "    </tr>\n",
       "    <tr>\n",
       "      <th>3560</th>\n",
       "      <td>28466</td>\n",
       "      <td>2</td>\n",
       "      <td>3561</td>\n",
       "      <td>1</td>\n",
       "    </tr>\n",
       "    <tr>\n",
       "      <th>3561</th>\n",
       "      <td>28467</td>\n",
       "      <td>2</td>\n",
       "      <td>3562</td>\n",
       "      <td>2</td>\n",
       "    </tr>\n",
       "  </tbody>\n",
       "</table>\n",
       "<p>3562 rows × 4 columns</p>\n",
       "</div>"
      ],
      "text/plain": [
       "      key_servicio  key_tipo_novedad  key_hecho_novedad  total_novedad\n",
       "0               29                 1                  1              1\n",
       "1               29                 2                  2              1\n",
       "2               51                 1                  3              5\n",
       "3               51                 2                  4              3\n",
       "4               57                 1                  5              2\n",
       "...            ...               ...                ...            ...\n",
       "3557         28455                 1               3558              1\n",
       "3558         28461                 2               3559              1\n",
       "3559         28464                 2               3560              1\n",
       "3560         28466                 2               3561              1\n",
       "3561         28467                 2               3562              2\n",
       "\n",
       "[3562 rows x 4 columns]"
      ]
     },
     "execution_count": 9,
     "metadata": {},
     "output_type": "execute_result"
    }
   ],
   "source": [
    "novedad_servicio = pd.read_sql_table('mensajeria_novedadesservicio', src)\n",
    "dim_tipo_novedad = pd.read_sql_table('dim_tipo_novedad', etl)\n",
    "hecho_novedad = novedad_servicio.groupby(['servicio_id', 'tipo_novedad_id']).size().reset_index(name='total_novedad')\n",
    "\n",
    "hecho_novedad.rename(columns={\n",
    "    'servicio_id': 'key_servicio',\n",
    "    'tipo_novedad_id': 'key_tipo_novedad',\n",
    "}, inplace=True)\n",
    "\n",
    "hecho_novedad[\"key_hecho_novedad\"] = range(1, len(hecho_novedad) + 1)\n",
    "\n",
    "# Mover la columna 'telefono' al final\n",
    "cols = [col for col in hecho_novedad.columns if col != 'total_novedad'] + ['total_novedad']\n",
    "hecho_novedad = hecho_novedad[cols]\n",
    "\n",
    "\n",
    "# Eliminar filas duplicadas en 'hecho_novedad'\n",
    "hecho_novedad = hecho_novedad.drop_duplicates()\n",
    "\n",
    "hecho_novedad"
   ]
  },
  {
   "cell_type": "code",
   "execution_count": 10,
   "metadata": {},
   "outputs": [
    {
     "data": {
      "text/plain": [
       "562"
      ]
     },
     "execution_count": 10,
     "metadata": {},
     "output_type": "execute_result"
    }
   ],
   "source": [
    "hecho_novedad.to_sql('hecho_novedad', etl, index=False, if_exists='replace')"
   ]
  }
 ],
 "metadata": {
  "kernelspec": {
   "display_name": "Python 3",
   "language": "python",
   "name": "python3"
  },
  "language_info": {
   "codemirror_mode": {
    "name": "ipython",
    "version": 3
   },
   "file_extension": ".py",
   "mimetype": "text/x-python",
   "name": "python",
   "nbconvert_exporter": "python",
   "pygments_lexer": "ipython3",
   "version": "3.12.3"
  }
 },
 "nbformat": 4,
 "nbformat_minor": 2
}
