{
 "cells": [
  {
   "cell_type": "markdown",
   "metadata": {},
   "source": [
    "# fact_messaging_time"
   ]
  },
  {
   "cell_type": "markdown",
   "metadata": {},
   "source": [
    "### Importación de librerías"
   ]
  },
  {
   "cell_type": "code",
   "execution_count": 1,
   "metadata": {},
   "outputs": [],
   "source": [
    "import yaml\n",
    "import pandas as pd\n",
    "from sqlalchemy import create_engine"
   ]
  },
  {
   "cell_type": "markdown",
   "metadata": {},
   "source": [
    "### Conexión a base y bodega de datos"
   ]
  },
  {
   "cell_type": "code",
   "execution_count": 2,
   "metadata": {},
   "outputs": [],
   "source": [
    "with open('config.yaml') as f:\n",
    "    config = yaml.safe_load(f)\n",
    "    configFuente = config['fuente']\n",
    "    configBodega = config['bodega']\n",
    "\n",
    "urlFuente = f\"{configFuente['driver']}://{configFuente['user']}:{configFuente['password']}@{configFuente['host']}:{configFuente['port']}/{configFuente['db']}\"\n",
    "urlBodega = f\"{configBodega['driver']}://{configBodega['user']}:{configBodega['password']}@{configBodega['host']}:{configBodega['port']}/{configBodega['db']}\"\n",
    "\n",
    "src = create_engine(urlFuente)\n",
    "etl = create_engine(urlBodega)"
   ]
  },
  {
   "cell_type": "markdown",
   "metadata": {},
   "source": [
    "### Extracción y transformación de datos"
   ]
  },
  {
   "cell_type": "code",
   "execution_count": 3,
   "metadata": {},
   "outputs": [
    {
     "name": "stderr",
     "output_type": "stream",
     "text": [
      "C:\\Users\\jpant\\AppData\\Local\\Temp\\ipykernel_20364\\427345242.py:9: FutureWarning: A value is trying to be set on a copy of a DataFrame or Series through chained assignment using an inplace method.\n",
      "The behavior will change in pandas 3.0. This inplace method will never work because the intermediate object on which we are setting values always behaves as a copy.\n",
      "\n",
      "For example, when doing 'df[col].method(value, inplace=True)', try using 'df.method({col: value}, inplace=True)' or df[col] = df[col].method(value) instead, to perform the operation inplace on the original object.\n",
      "\n",
      "\n",
      "  mensajeria_servicio['mensajero2_id'].fillna(mensajeria_servicio['mensajero_id'], inplace=True)\n",
      "C:\\Users\\jpant\\AppData\\Local\\Temp\\ipykernel_20364\\427345242.py:10: FutureWarning: A value is trying to be set on a copy of a DataFrame or Series through chained assignment using an inplace method.\n",
      "The behavior will change in pandas 3.0. This inplace method will never work because the intermediate object on which we are setting values always behaves as a copy.\n",
      "\n",
      "For example, when doing 'df[col].method(value, inplace=True)', try using 'df.method({col: value}, inplace=True)' or df[col] = df[col].method(value) instead, to perform the operation inplace on the original object.\n",
      "\n",
      "\n",
      "  mensajeria_servicio['mensajero3_id'].fillna(mensajeria_servicio['mensajero2_id'], inplace=True)\n"
     ]
    },
    {
     "data": {
      "text/html": [
       "<div>\n",
       "<style scoped>\n",
       "    .dataframe tbody tr th:only-of-type {\n",
       "        vertical-align: middle;\n",
       "    }\n",
       "\n",
       "    .dataframe tbody tr th {\n",
       "        vertical-align: top;\n",
       "    }\n",
       "\n",
       "    .dataframe thead th {\n",
       "        text-align: right;\n",
       "    }\n",
       "</style>\n",
       "<table border=\"1\" class=\"dataframe\">\n",
       "  <thead>\n",
       "    <tr style=\"text-align: right;\">\n",
       "      <th></th>\n",
       "      <th>key_messenger</th>\n",
       "      <th>total_hora</th>\n",
       "      <th>key_hecho_entrega_mensajeria_hora</th>\n",
       "      <th>key_hora</th>\n",
       "    </tr>\n",
       "  </thead>\n",
       "  <tbody>\n",
       "    <tr>\n",
       "      <th>0</th>\n",
       "      <td>1</td>\n",
       "      <td>1</td>\n",
       "      <td>1</td>\n",
       "      <td>121</td>\n",
       "    </tr>\n",
       "    <tr>\n",
       "      <th>1</th>\n",
       "      <td>1</td>\n",
       "      <td>1</td>\n",
       "      <td>2</td>\n",
       "      <td>421</td>\n",
       "    </tr>\n",
       "    <tr>\n",
       "      <th>2</th>\n",
       "      <td>1</td>\n",
       "      <td>1</td>\n",
       "      <td>3</td>\n",
       "      <td>481</td>\n",
       "    </tr>\n",
       "    <tr>\n",
       "      <th>3</th>\n",
       "      <td>1</td>\n",
       "      <td>1</td>\n",
       "      <td>4</td>\n",
       "      <td>661</td>\n",
       "    </tr>\n",
       "    <tr>\n",
       "      <th>4</th>\n",
       "      <td>1</td>\n",
       "      <td>1</td>\n",
       "      <td>5</td>\n",
       "      <td>721</td>\n",
       "    </tr>\n",
       "    <tr>\n",
       "      <th>...</th>\n",
       "      <td>...</td>\n",
       "      <td>...</td>\n",
       "      <td>...</td>\n",
       "      <td>...</td>\n",
       "    </tr>\n",
       "    <tr>\n",
       "      <th>171</th>\n",
       "      <td>447</td>\n",
       "      <td>3</td>\n",
       "      <td>172</td>\n",
       "      <td>601</td>\n",
       "    </tr>\n",
       "    <tr>\n",
       "      <th>172</th>\n",
       "      <td>447</td>\n",
       "      <td>1</td>\n",
       "      <td>173</td>\n",
       "      <td>841</td>\n",
       "    </tr>\n",
       "    <tr>\n",
       "      <th>173</th>\n",
       "      <td>447</td>\n",
       "      <td>2</td>\n",
       "      <td>174</td>\n",
       "      <td>901</td>\n",
       "    </tr>\n",
       "    <tr>\n",
       "      <th>174</th>\n",
       "      <td>447</td>\n",
       "      <td>1</td>\n",
       "      <td>175</td>\n",
       "      <td>961</td>\n",
       "    </tr>\n",
       "    <tr>\n",
       "      <th>175</th>\n",
       "      <td>490</td>\n",
       "      <td>1</td>\n",
       "      <td>176</td>\n",
       "      <td>1141</td>\n",
       "    </tr>\n",
       "  </tbody>\n",
       "</table>\n",
       "<p>176 rows × 4 columns</p>\n",
       "</div>"
      ],
      "text/plain": [
       "     key_messenger  total_hora  key_hecho_entrega_mensajeria_hora  key_hora\n",
       "0                1           1                                  1       121\n",
       "1                1           1                                  2       421\n",
       "2                1           1                                  3       481\n",
       "3                1           1                                  4       661\n",
       "4                1           1                                  5       721\n",
       "..             ...         ...                                ...       ...\n",
       "171            447           3                                172       601\n",
       "172            447           1                                173       841\n",
       "173            447           2                                174       901\n",
       "174            447           1                                175       961\n",
       "175            490           1                                176      1141\n",
       "\n",
       "[176 rows x 4 columns]"
      ]
     },
     "execution_count": 3,
     "metadata": {},
     "output_type": "execute_result"
    }
   ],
   "source": [
    "mensajeria_servicio = pd.read_sql_table('mensajeria_servicio', src)\n",
    "mensajeria_estadosservicio = pd.read_sql_table('mensajeria_estadosservicio', src)\n",
    "clientes_mensajeroaquitoy = pd.read_sql_table('clientes_mensajeroaquitoy', src)\n",
    "\n",
    "mensajeria_servicio.drop(columns=[\"descripcion\", \"nombre_solicitante\", \"fecha_solicitud\", \"hora_solicitud\", \"fecha_deseada\", \"hora_deseada\", \"nombre_recibe\", \"telefono_recibe\", \"descripcion_pago\", \"ida_y_regreso\", \"activo\", \"novedades\", \"cliente_id\", \"destino_id\", \"origen_id\", \"tipo_pago_id\", \"tipo_servicio_id\", \"tipo_vehiculo_id\", \"usuario_id\", \"prioridad\", \"ciudad_destino_id\", \"ciudad_origen_id\", \"hora_visto_por_mensajero\", \"visto_por_mensajero\", \"descripcion_multiples_origenes\", \"multiples_origenes\", \"asignar_mensajero\", \"es_prueba\", \"descripcion_cancelado\"], inplace=True)\n",
    "mensajeria_estadosservicio.drop(columns=[\"fecha\", \"foto\", \"observaciones\", \"es_prueba\", \"foto_binary\"], inplace=True)\n",
    "clientes_mensajeroaquitoy.drop(columns=[\"activo\", \"fecha_entrada\", \"fecha_salida\", \"salario\", \"telefono\", \"ciudad_operacion_id\", \"token_Firebase\", \"url_foto\"], inplace=True)\n",
    "\n",
    "mensajeria_servicio['mensajero2_id'].fillna(mensajeria_servicio['mensajero_id'], inplace=True)\n",
    "mensajeria_servicio['mensajero3_id'].fillna(mensajeria_servicio['mensajero2_id'], inplace=True)\n",
    "\n",
    "mensajeria_estadosservicio = mensajeria_estadosservicio[mensajeria_estadosservicio['estado_id'] == 2]\n",
    "\n",
    "hecho_entrega_mensajeria_hora_nm1 = pd.merge(mensajeria_servicio, mensajeria_estadosservicio, left_on='id', right_on='servicio_id', how='inner')\n",
    "hecho_entrega_mensajeria_hora = pd.merge(hecho_entrega_mensajeria_hora_nm1, clientes_mensajeroaquitoy, left_on='mensajero3_id', right_on='id', how='inner')\n",
    "\n",
    "registro_de_hecho_entrega_mensajeria_hora_con_tiempos_y_mensajeros = []\n",
    "conteo_de_mensajeros_por_servicio = {}\n",
    "for index, row in hecho_entrega_mensajeria_hora.iterrows():\n",
    "    servicio_id = hecho_entrega_mensajeria_hora.iloc[index, 7]\n",
    "    if servicio_id not in conteo_de_mensajeros_por_servicio:\n",
    "        conteo_de_mensajeros_por_servicio[servicio_id] = 1\n",
    "    elif conteo_de_mensajeros_por_servicio[servicio_id] == 1:\n",
    "        conteo_de_mensajeros_por_servicio[servicio_id] += 1\n",
    "    elif conteo_de_mensajeros_por_servicio[servicio_id] == 2:\n",
    "        nueva_fila = {'hora': hecho_entrega_mensajeria_hora.iloc[index, 5].replace(minute=0, second=0), 'key_messenger': int(hecho_entrega_mensajeria_hora.iloc[index, 9])}\n",
    "        registro_de_hecho_entrega_mensajeria_hora_con_tiempos_y_mensajeros.append(nueva_fila)\n",
    "        conteo_de_mensajeros_por_servicio[servicio_id] += 1\n",
    "\n",
    "hecho_entrega_mensajeria_hora_con_tiempos_y_mensajeros = pd.DataFrame(registro_de_hecho_entrega_mensajeria_hora_con_tiempos_y_mensajeros)\n",
    "hecho_entrega_mensajeria_hora_con_tiempos_y_mensajeros_agrupados = hecho_entrega_mensajeria_hora_con_tiempos_y_mensajeros.groupby(['key_messenger', 'hora']).size().reset_index(name='total_hora')\n",
    "hecho_entrega_mensajeria_hora_con_tiempos_y_mensajeros_agrupados[\"key_hecho_entrega_mensajeria_hora\"] = range(1, len(hecho_entrega_mensajeria_hora_con_tiempos_y_mensajeros_agrupados) + 1)\n",
    "\n",
    "dim_hora = pd.read_sql_table('dim_hora', etl)\n",
    "\n",
    "hecho_entrega_mensajeria_hora_con_tiempos_y_mensajeros_agrupadoss_con_hora_id = hecho_entrega_mensajeria_hora_con_tiempos_y_mensajeros_agrupados.merge(dim_hora[['hora', 'key_dim_hora']], on='hora', how='left')\n",
    "hecho_entrega_mensajeria_hora_con_tiempos_y_mensajeros_agrupadoss_con_hora_id.drop(columns=['hora'], inplace=True)\n",
    "hecho_entrega_mensajeria_hora_con_tiempos_y_mensajeros_agrupadoss_con_hora_id.rename(columns={'key_dim_hora': 'key_hora'}, inplace=True)\n",
    "\n",
    "hecho_entrega_mensajeria_hora_con_tiempos_y_mensajeros_agrupadoss_con_hora_id"
   ]
  },
  {
   "cell_type": "markdown",
   "metadata": {},
   "source": [
    "### Carga de datos"
   ]
  },
  {
   "cell_type": "code",
   "execution_count": 4,
   "metadata": {},
   "outputs": [
    {
     "data": {
      "text/plain": [
       "176"
      ]
     },
     "execution_count": 4,
     "metadata": {},
     "output_type": "execute_result"
    }
   ],
   "source": [
    "hecho_entrega_mensajeria_hora_con_tiempos_y_mensajeros_agrupadoss_con_hora_id.to_sql(\"hecho_entrega_mensajeria_hora\", etl, index=False, if_exists=\"replace\")"
   ]
  }
 ],
 "metadata": {
  "kernelspec": {
   "display_name": "Python 3",
   "language": "python",
   "name": "python3"
  },
  "language_info": {
   "codemirror_mode": {
    "name": "ipython",
    "version": 3
   },
   "file_extension": ".py",
   "mimetype": "text/x-python",
   "name": "python",
   "nbconvert_exporter": "python",
   "pygments_lexer": "ipython3",
   "version": "3.11.9"
  }
 },
 "nbformat": 4,
 "nbformat_minor": 2
}
