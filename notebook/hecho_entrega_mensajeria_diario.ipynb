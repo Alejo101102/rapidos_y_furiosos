{
 "cells": [
  {
   "cell_type": "markdown",
   "metadata": {},
   "source": [
    "# fact_messaging_daily"
   ]
  },
  {
   "cell_type": "markdown",
   "metadata": {},
   "source": [
    "### Importación de librerías"
   ]
  },
  {
   "cell_type": "code",
   "execution_count": 3,
   "metadata": {},
   "outputs": [],
   "source": [
    "import yaml\n",
    "import pandas as pd\n",
    "from sqlalchemy import create_engine"
   ]
  },
  {
   "cell_type": "markdown",
   "metadata": {},
   "source": [
    "### Conexión a base y bodega de datos"
   ]
  },
  {
   "cell_type": "code",
   "execution_count": 4,
   "metadata": {},
   "outputs": [],
   "source": [
    "with open('config.yaml') as f:\n",
    "    config = yaml.safe_load(f)\n",
    "    configFuente = config['fuente']\n",
    "    configBodega = config['bodega']\n",
    "\n",
    "urlFuente = f\"{configFuente['driver']}://{configFuente['user']}:{configFuente['password']}@{configFuente['host']}:{configFuente['port']}/{configFuente['db']}\"\n",
    "urlBodega = f\"{configBodega['driver']}://{configBodega['user']}:{configBodega['password']}@{configBodega['host']}:{configBodega['port']}/{configBodega['db']}\"\n",
    "\n",
    "src = create_engine(urlFuente)\n",
    "etl = create_engine(urlBodega)"
   ]
  },
  {
   "cell_type": "markdown",
   "metadata": {},
   "source": [
    "### Extracción y transformación de datos"
   ]
  },
  {
   "cell_type": "code",
   "execution_count": 5,
   "metadata": {},
   "outputs": [
    {
     "data": {
      "text/html": [
       "<div>\n",
       "<style scoped>\n",
       "    .dataframe tbody tr th:only-of-type {\n",
       "        vertical-align: middle;\n",
       "    }\n",
       "\n",
       "    .dataframe tbody tr th {\n",
       "        vertical-align: top;\n",
       "    }\n",
       "\n",
       "    .dataframe thead th {\n",
       "        text-align: right;\n",
       "    }\n",
       "</style>\n",
       "<table border=\"1\" class=\"dataframe\">\n",
       "  <thead>\n",
       "    <tr style=\"text-align: right;\">\n",
       "      <th></th>\n",
       "      <th>key_cliente</th>\n",
       "      <th>key_sede</th>\n",
       "      <th>total_day</th>\n",
       "      <th>key_fecha</th>\n",
       "      <th>key_fact_messaging_daily</th>\n",
       "    </tr>\n",
       "  </thead>\n",
       "  <tbody>\n",
       "    <tr>\n",
       "      <th>0</th>\n",
       "      <td>5</td>\n",
       "      <td>6</td>\n",
       "      <td>1</td>\n",
       "      <td>299</td>\n",
       "      <td>1</td>\n",
       "    </tr>\n",
       "    <tr>\n",
       "      <th>1</th>\n",
       "      <td>5</td>\n",
       "      <td>5</td>\n",
       "      <td>1</td>\n",
       "      <td>299</td>\n",
       "      <td>2</td>\n",
       "    </tr>\n",
       "    <tr>\n",
       "      <th>2</th>\n",
       "      <td>5</td>\n",
       "      <td>5</td>\n",
       "      <td>1</td>\n",
       "      <td>301</td>\n",
       "      <td>3</td>\n",
       "    </tr>\n",
       "    <tr>\n",
       "      <th>3</th>\n",
       "      <td>2</td>\n",
       "      <td>2</td>\n",
       "      <td>2</td>\n",
       "      <td>311</td>\n",
       "      <td>4</td>\n",
       "    </tr>\n",
       "    <tr>\n",
       "      <th>4</th>\n",
       "      <td>5</td>\n",
       "      <td>8</td>\n",
       "      <td>1</td>\n",
       "      <td>311</td>\n",
       "      <td>5</td>\n",
       "    </tr>\n",
       "    <tr>\n",
       "      <th>...</th>\n",
       "      <td>...</td>\n",
       "      <td>...</td>\n",
       "      <td>...</td>\n",
       "      <td>...</td>\n",
       "      <td>...</td>\n",
       "    </tr>\n",
       "    <tr>\n",
       "      <th>4289</th>\n",
       "      <td>2</td>\n",
       "      <td>2</td>\n",
       "      <td>1</td>\n",
       "      <td>334</td>\n",
       "      <td>4290</td>\n",
       "    </tr>\n",
       "    <tr>\n",
       "      <th>4290</th>\n",
       "      <td>8</td>\n",
       "      <td>37</td>\n",
       "      <td>1</td>\n",
       "      <td>439</td>\n",
       "      <td>4291</td>\n",
       "    </tr>\n",
       "    <tr>\n",
       "      <th>4291</th>\n",
       "      <td>5</td>\n",
       "      <td>5</td>\n",
       "      <td>1</td>\n",
       "      <td>293</td>\n",
       "      <td>4292</td>\n",
       "    </tr>\n",
       "    <tr>\n",
       "      <th>4292</th>\n",
       "      <td>2</td>\n",
       "      <td>2</td>\n",
       "      <td>1</td>\n",
       "      <td>276</td>\n",
       "      <td>4293</td>\n",
       "    </tr>\n",
       "    <tr>\n",
       "      <th>4293</th>\n",
       "      <td>5</td>\n",
       "      <td>8</td>\n",
       "      <td>1</td>\n",
       "      <td>269</td>\n",
       "      <td>4294</td>\n",
       "    </tr>\n",
       "  </tbody>\n",
       "</table>\n",
       "<p>4294 rows × 5 columns</p>\n",
       "</div>"
      ],
      "text/plain": [
       "      key_cliente  key_sede  total_day  key_fecha  key_fact_messaging_daily\n",
       "0               5         6          1        299                         1\n",
       "1               5         5          1        299                         2\n",
       "2               5         5          1        301                         3\n",
       "3               2         2          2        311                         4\n",
       "4               5         8          1        311                         5\n",
       "...           ...       ...        ...        ...                       ...\n",
       "4289            2         2          1        334                      4290\n",
       "4290            8        37          1        439                      4291\n",
       "4291            5         5          1        293                      4292\n",
       "4292            2         2          1        276                      4293\n",
       "4293            5         8          1        269                      4294\n",
       "\n",
       "[4294 rows x 5 columns]"
      ]
     },
     "execution_count": 5,
     "metadata": {},
     "output_type": "execute_result"
    }
   ],
   "source": [
    "\n",
    "mensajeria_servicio = pd.read_sql_table('mensajeria_servicio', src)\n",
    "clientes_usuarioaquitoy = pd.read_sql_table('clientes_usuarioaquitoy', src)\n",
    "\n",
    "mensajeria_servicio.drop(columns=[\"id\", \"descripcion\", \"nombre_solicitante\", \"hora_solicitud\", \"fecha_deseada\", \"hora_deseada\", \"nombre_recibe\", \"telefono_recibe\", \"descripcion_pago\", \"ida_y_regreso\", \"activo\", \"novedades\", \"cliente_id\", \"destino_id\", \"mensajero_id\", \"origen_id\", \"tipo_pago_id\", \"tipo_servicio_id\", \"tipo_vehiculo_id\", \"prioridad\", \"ciudad_destino_id\", \"ciudad_origen_id\", \"hora_visto_por_mensajero\", \"visto_por_mensajero\", \"descripcion_multiples_origenes\", \"mensajero2_id\", \"mensajero3_id\", \"multiples_origenes\", \"asignar_mensajero\", \"es_prueba\", \"descripcion_cancelado\"], inplace=True)\n",
    "\n",
    "clientes_usuarioaquitoy.drop(columns=[\"ciudad_id\", \"user_id\", \"telefono\", \"area_id\", \"token_Firebase\", \"lider\"], inplace=True)\n",
    "\n",
    "fact_messaging_daily = pd.merge(mensajeria_servicio, clientes_usuarioaquitoy, left_on='usuario_id', right_on='id', how='inner')\n",
    "\n",
    "fact_messaging_daily.drop(columns=[\"usuario_id\", \"id\"], inplace=True)\n",
    "\n",
    "total_day = fact_messaging_daily.groupby(['fecha_solicitud', 'cliente_id', 'sede_id']).size().reset_index(name='total_day')\n",
    "fact_messaging_daily = fact_messaging_daily.merge(total_day, on=['fecha_solicitud', 'cliente_id', 'sede_id'])\n",
    "fact_messaging_daily = fact_messaging_daily.drop_duplicates(subset=['fecha_solicitud', 'cliente_id', 'sede_id'])\n",
    "\n",
    "fact_messaging_daily.rename(columns={'fecha_solicitud': 'fecha'}, inplace=True)\n",
    "\n",
    "dim_fecha = pd.read_sql_table('dim_fecha', etl)\n",
    "\n",
    "fact_messaging_daily = fact_messaging_daily.merge(dim_fecha[['fecha', 'key_dim_fecha']], on='fecha', how='left')\n",
    "fact_messaging_daily.drop(columns=['fecha'], inplace=True)\n",
    "fact_messaging_daily.rename(columns={'key_dim_fecha': 'key_fecha', 'cliente_id': 'key_cliente', 'sede_id': 'key_sede',}, inplace=True)\n",
    "\n",
    "fact_messaging_daily[\"key_fact_messaging_daily\"] = range(1, len(fact_messaging_daily) + 1)\n",
    "\n",
    "fact_messaging_daily"
   ]
  },
  {
   "cell_type": "markdown",
   "metadata": {},
   "source": [
    "### Carga de datos"
   ]
  },
  {
   "cell_type": "code",
   "execution_count": 6,
   "metadata": {},
   "outputs": [
    {
     "data": {
      "text/plain": [
       "294"
      ]
     },
     "execution_count": 6,
     "metadata": {},
     "output_type": "execute_result"
    }
   ],
   "source": [
    "fact_messaging_daily.to_sql(\"hecho_entrega_mensajeria_diario\", etl, index=False, if_exists=\"replace\")"
   ]
  }
 ],
 "metadata": {
  "kernelspec": {
   "display_name": "Python 3",
   "language": "python",
   "name": "python3"
  },
  "language_info": {
   "codemirror_mode": {
    "name": "ipython",
    "version": 3
   },
   "file_extension": ".py",
   "mimetype": "text/x-python",
   "name": "python",
   "nbconvert_exporter": "python",
   "pygments_lexer": "ipython3",
   "version": "3.11.9"
  }
 },
 "nbformat": 4,
 "nbformat_minor": 2
}
